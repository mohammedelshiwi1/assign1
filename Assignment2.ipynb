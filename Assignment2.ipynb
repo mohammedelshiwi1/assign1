{
 "cells": [
  {
   "cell_type": "markdown",
   "id": "3c7a8819",
   "metadata": {},
   "source": [
    "# Task1\n",
    "Write a Python program to add an item to a tuple."
   ]
  },
  {
   "cell_type": "code",
   "execution_count": 3,
   "id": "7bf26def",
   "metadata": {},
   "outputs": [
    {
     "name": "stdout",
     "output_type": "stream",
     "text": [
      "('a', 'b', 'c', 'd')\n"
     ]
    }
   ],
   "source": [
    "tup=(\"a\",\"b\",\"c\")\n",
    "lst=list(tup)\n",
    "lst.append(\"d\")\n",
    "tup=tuple(lst)\n",
    "print(tup)"
   ]
  },
  {
   "cell_type": "markdown",
   "id": "a2932652",
   "metadata": {},
   "source": [
    "# Task2\n",
    "Write a Python program to sum all the items in a list."
   ]
  },
  {
   "cell_type": "code",
   "execution_count": 1,
   "id": "17cc806d",
   "metadata": {},
   "outputs": [
    {
     "data": {
      "text/plain": [
       "15"
      ]
     },
     "execution_count": 1,
     "metadata": {},
     "output_type": "execute_result"
    }
   ],
   "source": [
    "lst=[1,2,3,4,5]\n",
    "sum(lst)\n"
   ]
  },
  {
   "cell_type": "markdown",
   "id": "9439fccd",
   "metadata": {},
   "source": [
    "# Task3\n",
    "Write a Python program to multiply all the items in a list."
   ]
  },
  {
   "cell_type": "code",
   "execution_count": 4,
   "id": "7bd57bb5",
   "metadata": {},
   "outputs": [
    {
     "name": "stdout",
     "output_type": "stream",
     "text": [
      "120\n"
     ]
    }
   ],
   "source": [
    "mult=1\n",
    "lst=[1,2,3,4,5]\n",
    "for i in lst:\n",
    "    mult=mult*i\n",
    "print(mult)    "
   ]
  },
  {
   "cell_type": "markdown",
   "id": "1fef85c3",
   "metadata": {},
   "source": [
    "# Task4\n",
    "Write a Python program to get the smallest number from a list."
   ]
  },
  {
   "cell_type": "code",
   "execution_count": 6,
   "id": "c77b606c",
   "metadata": {},
   "outputs": [
    {
     "name": "stdout",
     "output_type": "stream",
     "text": [
      "1\n"
     ]
    }
   ],
   "source": [
    "lst=[1,2,3,4,5]\n",
    "minimum=min(lst)\n",
    "print(minimum)"
   ]
  },
  {
   "cell_type": "markdown",
   "id": "0d287243",
   "metadata": {},
   "source": [
    "# Task5\n",
    "Write a Python program to get the largest number from a list."
   ]
  },
  {
   "cell_type": "code",
   "execution_count": 7,
   "id": "29bf3a84",
   "metadata": {},
   "outputs": [
    {
     "name": "stdout",
     "output_type": "stream",
     "text": [
      "5\n"
     ]
    }
   ],
   "source": [
    "lst=[1,2,3,4,5]\n",
    "maxi=max(lst)\n",
    "print(maxi)"
   ]
  },
  {
   "cell_type": "markdown",
   "id": "b2350932",
   "metadata": {},
   "source": [
    "# Task6 \n",
    "Write a Python program to count the number of strings from a given list of \n",
    "strings."
   ]
  },
  {
   "cell_type": "code",
   "execution_count": 10,
   "id": "e73356bd",
   "metadata": {
    "scrolled": true
   },
   "outputs": [
    {
     "name": "stdout",
     "output_type": "stream",
     "text": [
      "5\n"
     ]
    }
   ],
   "source": [
    "lst=[\"1\",\"2\",\"3\",\"4\",\"5\"]\n",
    "length=len(lst)\n",
    "print(length)"
   ]
  },
  {
   "cell_type": "markdown",
   "id": "1eacc78b",
   "metadata": {},
   "source": [
    "# Task7\n",
    "Write a Python program to clone or copy a list"
   ]
  },
  {
   "cell_type": "code",
   "execution_count": 12,
   "id": "63bbc455",
   "metadata": {},
   "outputs": [
    {
     "name": "stdout",
     "output_type": "stream",
     "text": [
      "[1, 2, 3, 4, 5]\n"
     ]
    }
   ],
   "source": [
    "lst=[1,2,3,4,5]\n",
    "lst2=lst.copy()\n",
    "print(lst2)"
   ]
  },
  {
   "cell_type": "markdown",
   "id": "449d71c4",
   "metadata": {},
   "source": [
    "# Task8\n",
    "Write a Python program to remove item(s) from a given set.\n",
    "\n",
    "s = set([0, 1, 3, 4, 5])"
   ]
  },
  {
   "cell_type": "code",
   "execution_count": 36,
   "id": "2593788e",
   "metadata": {},
   "outputs": [
    {
     "name": "stdin",
     "output_type": "stream",
     "text": [
      "enter the item(s) you want to delete ,if you entered 999 the set will be cleared 4\n"
     ]
    },
    {
     "name": "stdout",
     "output_type": "stream",
     "text": [
      "<class 'list'>\n",
      "{0, 1, 3, 5}\n"
     ]
    }
   ],
   "source": [
    "s = set([0, 1, 3, 4, 5])\n",
    "inp=list(input(\"enter the item(s) you want to delete ,if you entered 999 the set will be cleared\"))\n",
    "inp=[int(i) for i in inp] \n",
    "print(type(inp))\n",
    "if inp[0] == 999:  \n",
    "        s.clear()\n",
    "else:\n",
    "        for i in inp:\n",
    "            s.remove(i)\n",
    "            \n",
    "s=set(s)\n",
    "print(s)"
   ]
  },
  {
   "cell_type": "markdown",
   "id": "f90c349e",
   "metadata": {},
   "source": [
    "# Task9\n",
    "Write a Python program to find the maximum and minimum values in a set."
   ]
  },
  {
   "cell_type": "code",
   "execution_count": 39,
   "id": "6f6e62b0",
   "metadata": {},
   "outputs": [
    {
     "name": "stdout",
     "output_type": "stream",
     "text": [
      "<class 'set'>\n",
      "5\n"
     ]
    }
   ],
   "source": [
    "s = set([0, 1, 3, 4, 5])\n",
    "print(type(s))\n",
    "maxi=max(s)\n",
    "print(maxi)"
   ]
  },
  {
   "cell_type": "markdown",
   "id": "a151e82a",
   "metadata": {},
   "source": [
    "# Task10\n",
    "Write a Python program to convert a tuple to a dictionary."
   ]
  },
  {
   "cell_type": "code",
   "execution_count": 47,
   "id": "1c606999",
   "metadata": {},
   "outputs": [
    {
     "name": "stdout",
     "output_type": "stream",
     "text": [
      "{'1': 1, '2': 2, '3': 3, '4': 4}\n"
     ]
    }
   ],
   "source": [
    "tup=(1,2,3,4)\n",
    "dic={}\n",
    "for i in tup:\n",
    "    dic[str(i)]=i\n",
    "\n",
    "print(dic)"
   ]
  },
  {
   "cell_type": "markdown",
   "id": "c8132b1b",
   "metadata": {},
   "source": [
    "# Task11\n",
    "Write a Python program to reverse a tuple."
   ]
  },
  {
   "cell_type": "code",
   "execution_count": 50,
   "id": "49a882d8",
   "metadata": {},
   "outputs": [
    {
     "name": "stdout",
     "output_type": "stream",
     "text": [
      "(4, 3, 2, 1)\n"
     ]
    }
   ],
   "source": [
    "tup=(1,2,3,4)\n",
    "tup2=tup\n",
    "tup=tup2[::-1]\n",
    "print(tup)"
   ]
  },
  {
   "cell_type": "markdown",
   "id": "6c062c85",
   "metadata": {},
   "source": [
    "# Task12\n",
    "Write a Python program to convert a list of tuples into a dictionary"
   ]
  },
  {
   "cell_type": "code",
   "execution_count": 55,
   "id": "c3b21d48",
   "metadata": {},
   "outputs": [
    {
     "name": "stdout",
     "output_type": "stream",
     "text": [
      "{'tuple: 1': (1, 2), 'tuple: 2': (3, 4), 'tuple: 3': (5, 6)}\n"
     ]
    }
   ],
   "source": [
    "lst=[(1,2),(3,4),(5,6)]\n",
    "dic={}\n",
    "for i in range(0,len(lst)):\n",
    "    dic[f\"tuple: {(i+1)}\"]=lst[i]\n",
    "print(dic)    "
   ]
  },
  {
   "cell_type": "markdown",
   "id": "2133456d",
   "metadata": {},
   "source": [
    "# Task13\n",
    "Write a Python program to replace the last value of tuples in a list.\n",
    "\n",
    "Sample list: [(10, 20, 40), (40, 50, 60), (70, 80, 90)]\n",
    "\n",
    "Expected Output: [(10, 20, 100), (40, 50, 100), (70, 80, 100)]\n"
   ]
  },
  {
   "cell_type": "code",
   "execution_count": 61,
   "id": "de535d71",
   "metadata": {},
   "outputs": [
    {
     "name": "stdout",
     "output_type": "stream",
     "text": [
      "[(10, 20, 100), (40, 50, 100), (70, 80, 100)]\n"
     ]
    }
   ],
   "source": [
    "Sample_list=[(10, 20, 40), (40, 50, 60), (70, 80, 90)]\n",
    "for i in range(0,len(Sample_list)):\n",
    "    Sample_list[i]=list(Sample_list[i])\n",
    "    tup=Sample_list[i]\n",
    "    tup[len(tup)-1]=100\n",
    "    Sample_list[i]=tuple(Sample_list[i])\n",
    "print(Sample_list)"
   ]
  },
  {
   "cell_type": "markdown",
   "id": "076336bc",
   "metadata": {},
   "source": [
    "# Task14\n",
    "Remove the illegal characters in the variable name:\n",
    "\n",
    "var_name = \"%%6student_name$^$%#\"\n",
    "\n",
    "illegal_chars = \"0123456789!@#$%^&*()-+=[]{}|\\\\;:'\\\",.<>/?~\"\n",
    "\n",
    "output is \"student_name\""
   ]
  },
  {
   "cell_type": "code",
   "execution_count": 64,
   "id": "c377b33b",
   "metadata": {},
   "outputs": [
    {
     "name": "stdout",
     "output_type": "stream",
     "text": [
      "student_name\n"
     ]
    }
   ],
   "source": [
    "var_name = \"%%6student_name^%#\"\n",
    "\n",
    "illegal_chars = \"0123456789!@#$%^&*()-+=[]{}|\\;:',.<>/?~\"\n",
    "for i in var_name:\n",
    "    if i in illegal_chars:\n",
    "        var_name=var_name.replace(i,'')\n",
    "print(var_name)        "
   ]
  },
  {
   "cell_type": "markdown",
   "id": "46bd77d7",
   "metadata": {},
   "source": [
    "# Task15\n",
    "Write a Python program to print the even and odd numbers in a series of numbers\n",
    "\n",
    "Sample numbers : numbers = (1, 2, 3, 4, 5, 6, 7, 8, 9) \n",
    "    \n",
    "Expected Output :\n",
    "    \n",
    "Number of even numbers : 2,4,6,8\n",
    "    \n",
    "Number of odd numbers : 1,3,5,7,9"
   ]
  },
  {
   "cell_type": "code",
   "execution_count": 65,
   "id": "924d0873",
   "metadata": {},
   "outputs": [
    {
     "name": "stdout",
     "output_type": "stream",
     "text": [
      "[1, 3, 5, 7, 9]\n",
      "[2, 4, 6, 8]\n"
     ]
    }
   ],
   "source": [
    "numbers = list((1, 2, 3, 4, 5, 6, 7, 8, 9))\n",
    "odd=[i for i in numbers if i%2 != 0]\n",
    "even=[i for i in numbers if i%2 == 0]\n",
    "print(odd)\n",
    "print(even)\n"
   ]
  },
  {
   "cell_type": "markdown",
   "id": "0f8fce9c",
   "metadata": {},
   "source": [
    "# Task16\n",
    "Write a Python program that iterates the integers from 1 to 50. For multiples of three print \"Fizz\" instead of the number and for multiples of five print \"Buzz\". For numbers that are multiples of three and five, print \"FizzBuzz\"."
   ]
  },
  {
   "cell_type": "code",
   "execution_count": 68,
   "id": "5985952d",
   "metadata": {
    "scrolled": true
   },
   "outputs": [
    {
     "name": "stdout",
     "output_type": "stream",
     "text": [
      "3  Fizz\n",
      "5  Buzz\n",
      "6  Fizz\n",
      "9  Fizz\n",
      "10  Buzz\n",
      "12  Fizz\n",
      "15 FizzBuzz\n",
      "18  Fizz\n",
      "20  Buzz\n",
      "21  Fizz\n",
      "24  Fizz\n",
      "25  Buzz\n",
      "27  Fizz\n",
      "30 FizzBuzz\n",
      "33  Fizz\n",
      "35  Buzz\n",
      "36  Fizz\n",
      "39  Fizz\n",
      "40  Buzz\n",
      "42  Fizz\n",
      "45 FizzBuzz\n",
      "48  Fizz\n",
      "50  Buzz\n"
     ]
    }
   ],
   "source": [
    "for i in range(1,51):\n",
    "    if i%3 ==0 and i%5 == 0:\n",
    "        print(f\"{i} FizzBuzz\")\n",
    "    elif i%3==0:\n",
    "        print(f\"{i}  Fizz\")\n",
    "    elif i%5==0:\n",
    "        print(f\"{i}  Buzz\")\n",
    "\n"
   ]
  },
  {
   "cell_type": "markdown",
   "id": "504dee61",
   "metadata": {},
   "source": [
    "# Task17\n",
    "After you have finished the second session, can you explain briefly what information was learned and also what information you learned through the search?"
   ]
  },
  {
   "cell_type": "code",
   "execution_count": null,
   "id": "4711a851",
   "metadata": {},
   "outputs": [],
   "source": [
    "## i have learned a lot about python syntaxes and a new tricks for an 1 year experience in python"
   ]
  },
  {
   "cell_type": "code",
   "execution_count": null,
   "id": "91964d75-d374-421e-b2e2-dec4067990b3",
   "metadata": {},
   "outputs": [],
   "source": []
  }
 ],
 "metadata": {
  "kernelspec": {
   "display_name": "Python 3 (ipykernel)",
   "language": "python",
   "name": "python3"
  },
  "language_info": {
   "codemirror_mode": {
    "name": "ipython",
    "version": 3
   },
   "file_extension": ".py",
   "mimetype": "text/x-python",
   "name": "python",
   "nbconvert_exporter": "python",
   "pygments_lexer": "ipython3",
   "version": "3.11.7"
  }
 },
 "nbformat": 4,
 "nbformat_minor": 5
}
