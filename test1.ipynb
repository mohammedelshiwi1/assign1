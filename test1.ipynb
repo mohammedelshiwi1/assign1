{
 "cells": [
  {
   "cell_type": "markdown",
   "metadata": {
    "id": "7rMJIubZGObP"
   },
   "source": [
    "#### Multiply 10 with 5, and print the result.\n",
    "\n"
   ]
  },
  {
   "cell_type": "code",
   "execution_count": 1,
   "metadata": {},
   "outputs": [
    {
     "name": "stdout",
     "output_type": "stream",
     "text": [
      "50\n"
     ]
    }
   ],
   "source": [
    "print(5*10)"
   ]
  },
  {
   "cell_type": "markdown",
   "metadata": {
    "id": "Mucrs9f5GYw3"
   },
   "source": [
    "### Divide 10 by 2, and print the result.\n",
    "\n"
   ]
  },
  {
   "cell_type": "code",
   "execution_count": 2,
   "metadata": {},
   "outputs": [
    {
     "name": "stdout",
     "output_type": "stream",
     "text": [
      "5.0\n"
     ]
    }
   ],
   "source": [
    "print(10/2)"
   ]
  },
  {
   "cell_type": "markdown",
   "metadata": {
    "id": "GhvrFFPxGkLF"
   },
   "source": [
    "### Use the correct membership operator to check if \"apple\" is present in the fruits object.\n",
    "\n"
   ]
  },
  {
   "cell_type": "code",
   "execution_count": 20,
   "metadata": {},
   "outputs": [],
   "source": [
    "fruits = ['apple', 'cherry', 'bannana', 'watermelon']"
   ]
  },
  {
   "cell_type": "code",
   "execution_count": 5,
   "metadata": {},
   "outputs": [
    {
     "name": "stdout",
     "output_type": "stream",
     "text": [
      "True\n"
     ]
    }
   ],
   "source": [
    "fruits = ['apple', 'cherry', 'bannana', 'watermelon']\n",
    "if \"apple\" in fruits:\n",
    "    print(\"True\")\n",
    "else:\n",
    "    print(\"false\")"
   ]
  },
  {
   "cell_type": "markdown",
   "metadata": {
    "id": "71TfNEQxGuNw"
   },
   "source": [
    "### Use the correct comparison operator to check if 5 is `not equal` to 10.\n",
    "\n"
   ]
  },
  {
   "cell_type": "code",
   "execution_count": 7,
   "metadata": {},
   "outputs": [],
   "source": [
    "x=5!=10"
   ]
  },
  {
   "cell_type": "markdown",
   "metadata": {
    "id": "_cqga3VjG9jJ"
   },
   "source": [
    "### Use the correct logical operator to check if at least one of two statements is `True`.\n",
    "\n"
   ]
  },
  {
   "cell_type": "code",
   "execution_count": null,
   "metadata": {},
   "outputs": [],
   "source": [
    "or"
   ]
  },
  {
   "cell_type": "markdown",
   "metadata": {
    "id": "gvFm9RC4H2BJ"
   },
   "source": [
    "### Print the second item in the fruits list.\n",
    "\n"
   ]
  },
  {
   "cell_type": "code",
   "execution_count": null,
   "metadata": {},
   "outputs": [],
   "source": [
    "fruits = ['apple', 'cherry', 'bannana', 'watermelon']\n",
    "print(fruits[1])"
   ]
  },
  {
   "cell_type": "markdown",
   "metadata": {
    "id": "_o7i99HGICNC"
   },
   "source": [
    "### Change the value from \"apple\" to \"kiwi\", in the fruits list.\n",
    "\n"
   ]
  },
  {
   "cell_type": "code",
   "execution_count": 8,
   "metadata": {},
   "outputs": [
    {
     "name": "stdout",
     "output_type": "stream",
     "text": [
      "['kiwi', 'cherry', 'bannana', 'watermelon']\n"
     ]
    }
   ],
   "source": [
    "fruits = ['apple', 'cherry', 'bannana', 'watermelon']\n",
    "for i in range(0,len(fruits)):\n",
    "    if fruits[i] == \"apple\":\n",
    "        fruits[i]=\"kiwi\"\n",
    "print(fruits)        \n",
    "    \n"
   ]
  },
  {
   "cell_type": "markdown",
   "metadata": {
    "id": "Wxi383HNILra"
   },
   "source": [
    "### Use the append method to add \"orange\" to the fruits list.\n",
    "\n"
   ]
  },
  {
   "cell_type": "code",
   "execution_count": 9,
   "metadata": {},
   "outputs": [],
   "source": [
    "fruits = ['apple', 'cherry', 'bannana', 'watermelon']\n",
    "fruits.append(\"orange\")"
   ]
  },
  {
   "cell_type": "markdown",
   "metadata": {
    "id": "z6tv8q6zIUjZ"
   },
   "source": [
    "### Use the insert method to add \"lemon\" as the second item in the fruits list.\n",
    "\n"
   ]
  },
  {
   "cell_type": "code",
   "execution_count": 11,
   "metadata": {},
   "outputs": [
    {
     "name": "stdout",
     "output_type": "stream",
     "text": [
      "['apple', 'lemon', 'cherry', 'bannana', 'watermelon']\n"
     ]
    }
   ],
   "source": [
    "fruits = ['apple', 'cherry', 'bannana', 'watermelon']\n",
    "fruits.insert(1,\"lemon\")\n",
    "print(fruits)"
   ]
  },
  {
   "cell_type": "markdown",
   "metadata": {
    "id": "CsyceyyBIiSw"
   },
   "source": [
    "### Use the remove method to remove `\"banana\"` from the fruits list.\n",
    "\n"
   ]
  },
  {
   "cell_type": "code",
   "execution_count": 14,
   "metadata": {},
   "outputs": [],
   "source": [
    "fruits = ['apple', 'cherry', 'bannana', 'watermelon']\n",
    "fruits.remove(\"bannana\")"
   ]
  },
  {
   "cell_type": "markdown",
   "metadata": {
    "id": "0fbTHlYrIrwY"
   },
   "source": [
    "### Use negative indexing to print the last item in the list.\n",
    "\n"
   ]
  },
  {
   "cell_type": "code",
   "execution_count": 16,
   "metadata": {},
   "outputs": [
    {
     "name": "stdout",
     "output_type": "stream",
     "text": [
      "watermelon\n"
     ]
    }
   ],
   "source": [
    "fruits = ['apple', 'cherry', 'bannana', 'watermelon']\n",
    "print(fruits[-1])"
   ]
  },
  {
   "cell_type": "markdown",
   "metadata": {
    "id": "rR3ORmMVI55Z"
   },
   "source": [
    "### Use a range of indexes to print the third, fourth, and fifth item in the list.\n",
    "\n"
   ]
  },
  {
   "cell_type": "code",
   "execution_count": 18,
   "metadata": {},
   "outputs": [
    {
     "name": "stdout",
     "output_type": "stream",
     "text": [
      "bannana\n",
      "watermelon\n",
      "lemon\n"
     ]
    }
   ],
   "source": [
    "fruits = ['apple', 'cherry', 'bannana', 'watermelon','lemon']\n",
    "for i in range(2,5):\n",
    "    print(fruits[i])"
   ]
  },
  {
   "cell_type": "markdown",
   "metadata": {
    "id": "tc0ZAGQ2JfM9"
   },
   "source": [
    "### Use the correct syntax to print the number of items in the list.\n",
    "\n"
   ]
  },
  {
   "cell_type": "code",
   "execution_count": 19,
   "metadata": {},
   "outputs": [
    {
     "name": "stdout",
     "output_type": "stream",
     "text": [
      "4\n"
     ]
    }
   ],
   "source": [
    "fruits = ['apple', 'cherry', 'bannana', 'watermelon']\n",
    "print(len(fruits))"
   ]
  },
  {
   "cell_type": "markdown",
   "metadata": {
    "id": "feYJq0vYKe1S"
   },
   "source": [
    "### Write a Python program to print all even numbers from a given list of numbers in the same order and stop printing any after 237 in the sequence."
   ]
  },
  {
   "cell_type": "markdown",
   "metadata": {
    "id": "ec1qLM7DKnea"
   },
   "source": [
    "#### numbers = [    \n",
    "    386, 462, 47, 418, 907, 344, 236, 375, 823, 566, 597, 978, 328, 615, 953, 345,\n",
    "    399, 162, 758, 219, 918, 237, 412, 566, 826, 248, 866, 950, 626, 949, 687, 217,\n",
    "    815, 67, 104, 58, 512, 24, 892, 894, 767, 553, 81, 379, 843, 831, 445, 742, 717,\n",
    "    958,743, 527\n",
    "    ]"
   ]
  },
  {
   "cell_type": "code",
   "execution_count": 24,
   "metadata": {},
   "outputs": [
    {
     "name": "stdout",
     "output_type": "stream",
     "text": [
      "386\n",
      "462\n",
      "418\n",
      "344\n",
      "236\n",
      "566\n",
      "978\n",
      "328\n",
      "162\n",
      "758\n",
      "918\n"
     ]
    }
   ],
   "source": [
    "numbers = [\n",
    "386, 462, 47, 418, 907, 344, 236, 375, 823, 566, 597, 978, 328, 615, 953, 345,\n",
    "399, 162, 758, 219, 918, 237, 412, 566, 826, 248, 866, 950, 626, 949, 687, 217,\n",
    "815, 67, 104, 58, 512, 24, 892, 894, 767, 553, 81, 379, 843, 831, 445, 742, 717,\n",
    "958,743, 527\n",
    "]\n",
    "for i in numbers:\n",
    "    if i != 237:\n",
    "        if i%2==0:\n",
    "            print(i) \n",
    "    else: break"
   ]
  },
  {
   "cell_type": "code",
   "execution_count": null,
   "metadata": {},
   "outputs": [],
   "source": []
  },
  {
   "cell_type": "markdown",
   "metadata": {
    "id": "FX6mi5tqLb5J"
   },
   "source": [
    "### Write a Python program that will accept the base and height of a triangle and compute its area.\n",
    "\n"
   ]
  },
  {
   "cell_type": "markdown",
   "metadata": {
    "id": "mt1FKNPYLN0I"
   },
   "source": [
    "<img src=\"https://www.w3resource.com/w3r_images/python-area-triangle-basic-exercise-30.png\" alt=\"Girl in a jacket\" width=\"500\" height=\"600\">\n"
   ]
  },
  {
   "cell_type": "code",
   "execution_count": 26,
   "metadata": {},
   "outputs": [
    {
     "name": "stdin",
     "output_type": "stream",
     "text": [
      "enter the length of triangle 1\n",
      "enter the height of triangle 2\n"
     ]
    },
    {
     "name": "stdout",
     "output_type": "stream",
     "text": [
      "the area is : 1.0\n"
     ]
    }
   ],
   "source": [
    "b=float(input(\"enter the length of triangle\"))\n",
    "h=float(input(\"enter the height of triangle\"))\n",
    "print(f\"the area is : {0.5*b*h}\")"
   ]
  },
  {
   "cell_type": "code",
   "execution_count": null,
   "metadata": {},
   "outputs": [],
   "source": []
  },
  {
   "cell_type": "markdown",
   "metadata": {
    "id": "tP7gY2ZCPxnU"
   },
   "source": [
    "### Sort three integers without using conditional statements\n",
    "\n"
   ]
  },
  {
   "cell_type": "markdown",
   "metadata": {
    "id": "Xwy7VRdJPtxN"
   },
   "source": [
    "<img src=\"https://www.w3resource.com/w3r_images/python-basic-image-exercise-69.png\" alt=\"Girl in a jacket\" width=\"500\" height=\"600\">\n"
   ]
  },
  {
   "cell_type": "code",
   "execution_count": 28,
   "metadata": {},
   "outputs": [],
   "source": [
    "numbers=[3,7,8]\n",
    "numbers=numbers.sort()"
   ]
  },
  {
   "cell_type": "code",
   "execution_count": null,
   "metadata": {},
   "outputs": [],
   "source": []
  },
  {
   "cell_type": "markdown",
   "metadata": {
    "id": "nn6opiI8Uj1-"
   },
   "source": [
    "#### Write a Python function that takes a sequence of numbers and determines whether all the numbers are different from each other."
   ]
  },
  {
   "cell_type": "markdown",
   "metadata": {
    "id": "9LQTVtiGVJ9r"
   },
   "source": [
    "<img src=\"https://www.w3resource.com/w3r_images/python-basic-1-image-exercise-1.png\" alt=\"Girl in a jacket\" width=\"500\" height=\"600\">\n"
   ]
  },
  {
   "cell_type": "code",
   "execution_count": 32,
   "metadata": {},
   "outputs": [
    {
     "name": "stdout",
     "output_type": "stream",
     "text": [
      "False\n"
     ]
    }
   ],
   "source": [
    "def check(seq):\n",
    "    seq=list(seq)\n",
    "    for i in range(0,len(seq)):\n",
    "        for j in range(i+1,len(seq)):\n",
    "            if seq[i]==seq[j]:\n",
    "               return False\n",
    "               break\n",
    "    return True\n",
    "print(check([1,2,2,4,5]))"
   ]
  },
  {
   "cell_type": "code",
   "execution_count": null,
   "metadata": {},
   "outputs": [],
   "source": []
  },
  {
   "cell_type": "code",
   "execution_count": null,
   "metadata": {},
   "outputs": [],
   "source": []
  },
  {
   "cell_type": "markdown",
   "metadata": {
    "id": "HHNeCzCWa3lx"
   },
   "source": [
    "#### Dictionary"
   ]
  },
  {
   "cell_type": "code",
   "execution_count": 33,
   "metadata": {
    "colab": {
     "base_uri": "https://localhost:8080/"
    },
    "id": "WOrfDlTla-Lf",
    "outputId": "76889e97-c736-490b-d105-61ee74cfb137"
   },
   "outputs": [
    {
     "name": "stdout",
     "output_type": "stream",
     "text": [
      "dict_keys(['a', 'b', 'c'])\n"
     ]
    }
   ],
   "source": [
    "#Return all keys \n",
    "dict1 = {'a': 100, 'b': 200, 'c': 300}\n",
    "print(dict1.keys())"
   ]
  },
  {
   "cell_type": "code",
   "execution_count": 34,
   "metadata": {
    "colab": {
     "base_uri": "https://localhost:8080/"
    },
    "id": "DAdr9gOQbDng",
    "outputId": "578f6680-f1e7-49cb-eaa0-bec2445dde2d"
   },
   "outputs": [
    {
     "name": "stdout",
     "output_type": "stream",
     "text": [
      "dict_values([200, 300])\n"
     ]
    }
   ],
   "source": [
    "#Return all Values\n",
    "dict1 = {'a': 100, 'a': 200, 'c': 300}\n",
    "print(dict1.values())"
   ]
  },
  {
   "cell_type": "code",
   "execution_count": 36,
   "metadata": {
    "colab": {
     "base_uri": "https://localhost:8080/"
    },
    "id": "XzjcaUpqbMGc",
    "outputId": "f18592a5-dee7-41ae-8f01-621dc6a44b0f"
   },
   "outputs": [
    {
     "data": {
      "text/plain": [
       "dict_items([('a', 200), ('c', 300)])"
      ]
     },
     "execution_count": 36,
     "metadata": {},
     "output_type": "execute_result"
    }
   ],
   "source": [
    "#Return a list of tuple\n",
    "dict1 = {'a': 100, 'a': 200, 'c': 300}\n",
    "dict1.items()"
   ]
  },
  {
   "cell_type": "markdown",
   "metadata": {
    "id": "6c1ld1XoZ_RK"
   },
   "source": [
    "```\n",
    "Input : {‘a’: 100, ‘b’:200, ‘c’:300}\n",
    "```\n",
    "Output : 600\n",
    "```\n",
    "# Input : {‘x’: 25, ‘y’:18, ‘z’:45}\n",
    "\n",
    "```\n",
    "Output : 88"
   ]
  },
  {
   "cell_type": "code",
   "execution_count": 38,
   "metadata": {},
   "outputs": [
    {
     "name": "stdout",
     "output_type": "stream",
     "text": [
      "600\n"
     ]
    }
   ],
   "source": [
    "dict={'a': 100, 'b':200, 'c':300}\n",
    "sum=0\n",
    "for i in dict.values():\n",
    "    sum=sum+i\n",
    "print(sum)    "
   ]
  },
  {
   "cell_type": "code",
   "execution_count": null,
   "metadata": {},
   "outputs": [],
   "source": []
  },
  {
   "cell_type": "markdown",
   "metadata": {
    "id": "3GT4F80UOaTa"
   },
   "source": [
    "### Calculate the sum of all numbers from 0 to a given number"
   ]
  },
  {
   "cell_type": "code",
   "execution_count": 40,
   "metadata": {},
   "outputs": [
    {
     "name": "stdin",
     "output_type": "stream",
     "text": [
      "enter a number:  10\n"
     ]
    },
    {
     "name": "stdout",
     "output_type": "stream",
     "text": [
      "45\n"
     ]
    }
   ],
   "source": [
    "x = int(input('enter a number: '))\n",
    "sum=0\n",
    "for i in range(0,x):\n",
    "    sum=sum+i\n",
    "print(sum)    \n"
   ]
  },
  {
   "cell_type": "markdown",
   "metadata": {
    "id": "1tHglDPNUT5J"
   },
   "source": [
    "### Find the factorial of a given number using while loop"
   ]
  },
  {
   "cell_type": "markdown",
   "metadata": {
    "id": "QT1487BDVCIU"
   },
   "source": [
    "#### For example: calculate the factorial of 5\n",
    "\n"
   ]
  },
  {
   "cell_type": "markdown",
   "metadata": {
    "id": "FCTJ9pt_VE-y"
   },
   "source": [
    "\n",
    "\n",
    "```\n",
    "# 5! = 5 × 4 × 3 × 2 × 1 = 120\n",
    "\n",
    "```\n",
    "\n"
   ]
  },
  {
   "cell_type": "code",
   "execution_count": 41,
   "metadata": {},
   "outputs": [
    {
     "data": {
      "text/plain": [
       "120"
      ]
     },
     "execution_count": 41,
     "metadata": {},
     "output_type": "execute_result"
    }
   ],
   "source": [
    "def fact(num):\n",
    "    fac=1\n",
    "    for i in range(1,num+1):\n",
    "        fac=fac*i\n",
    "    return fac\n",
    "fact(5)    "
   ]
  },
  {
   "cell_type": "markdown",
   "metadata": {
    "id": "q_f9IMbDYkLm"
   },
   "source": [
    "### Use a loop to display elements from a given list present at odd index positions"
   ]
  },
  {
   "cell_type": "markdown",
   "metadata": {
    "id": "Q9gHbx7XZBFc"
   },
   "source": [
    "```\n",
    "my_list = [10, 20, 30, 40, 50, 60, 70, 80, 90, 100]\n",
    "Expected output:\n",
    "20 40 60 80 100\n",
    "```\n",
    "\n"
   ]
  },
  {
   "cell_type": "code",
   "execution_count": 46,
   "metadata": {},
   "outputs": [
    {
     "name": "stdout",
     "output_type": "stream",
     "text": [
      "20 40 60 80 100 "
     ]
    }
   ],
   "source": [
    "my_list = [10,20,30,40,50,60,70,80,90,100]\n",
    "for i in range(0,len(my_list)):\n",
    "    if i%2!=0:\n",
    "        print(my_list[i], end=\" \")\n",
    "    "
   ]
  },
  {
   "cell_type": "code",
   "execution_count": null,
   "metadata": {},
   "outputs": [],
   "source": []
  },
  {
   "cell_type": "markdown",
   "metadata": {
    "id": "NRZ3LLaUmtQu"
   },
   "source": [
    "### len of str in list\n",
    "### ['apple', 'orange', 'cat']"
   ]
  },
  {
   "cell_type": "code",
   "execution_count": 47,
   "metadata": {
    "colab": {
     "base_uri": "https://localhost:8080/"
    },
    "id": "bIhFj4Q8ZlrW",
    "outputId": "c7a2f25b-b6c4-4289-a9c3-91b8504ed81a"
   },
   "outputs": [
    {
     "name": "stdout",
     "output_type": "stream",
     "text": [
      "[5, 6, 3]\n"
     ]
    }
   ],
   "source": [
    "l = ['apple', 'orange', 'cat']\n",
    "str=[len(i) for i in l]\n",
    "print(str)"
   ]
  },
  {
   "cell_type": "markdown",
   "metadata": {
    "id": "V05BjYlMeMjZ"
   },
   "source": [
    "### program to count number of vowels using sets in given string\n"
   ]
  },
  {
   "cell_type": "code",
   "execution_count": 48,
   "metadata": {},
   "outputs": [
    {
     "name": "stdin",
     "output_type": "stream",
     "text": [
      "enter a word:  ahmed\n"
     ]
    },
    {
     "name": "stdout",
     "output_type": "stream",
     "text": [
      "2\n"
     ]
    }
   ],
   "source": [
    "vowels = ['a','e','i','o','u']\n",
    "string = input('enter a word: ')\n",
    "count=0\n",
    "for i in string:\n",
    "    if i in vowels:\n",
    "        count+=1\n",
    "print(count)        "
   ]
  },
  {
   "cell_type": "markdown",
   "metadata": {
    "id": "rdIZGB8kgcMQ"
   },
   "source": [
    "\n",
    "### Write a Python program to add an item to a tuple."
   ]
  },
  {
   "cell_type": "code",
   "execution_count": 49,
   "metadata": {},
   "outputs": [],
   "source": [
    "tuple1 = (1,3,5)\n",
    "item = 10\n",
    "lst=list(tuple1)\n",
    "lst.append(item)\n",
    "tuple1=tuple(lst)\n"
   ]
  },
  {
   "cell_type": "markdown",
   "metadata": {
    "id": "NpZ-cEhZkSlO"
   },
   "source": [
    "### Write a Python program to multiply all the items in a list."
   ]
  },
  {
   "cell_type": "code",
   "execution_count": 50,
   "metadata": {},
   "outputs": [
    {
     "name": "stdout",
     "output_type": "stream",
     "text": [
      "30\n"
     ]
    }
   ],
   "source": [
    "lst = [1, 3, 5, 2]\n",
    "sum=1\n",
    "for i in lst:\n",
    "    sum=sum*i\n",
    "print(sum)    "
   ]
  },
  {
   "cell_type": "markdown",
   "metadata": {
    "id": "2fwBrTI1k1XG"
   },
   "source": [
    "### Write a Python program to get the smallest number from a list."
   ]
  },
  {
   "cell_type": "code",
   "execution_count": 17,
   "metadata": {},
   "outputs": [],
   "source": [
    "lst = [1, 3, 5,1,1000, 2]\n",
    "print(min(lst))\n"
   ]
  },
  {
   "cell_type": "markdown",
   "metadata": {
    "id": "-k8pdXDek5IW"
   },
   "source": [
    "### Write a Python program to get the largest number from a list."
   ]
  },
  {
   "cell_type": "code",
   "execution_count": 18,
   "metadata": {},
   "outputs": [],
   "source": [
    "lst = [1, 3, 5,1,1000, 2]\n",
    "print(max(lst)"
   ]
  },
  {
   "cell_type": "markdown",
   "metadata": {
    "id": "48pndthSlHSg"
   },
   "source": [
    "### Write a Python program to remove item(s) from a given set.\n",
    "\n",
    "### s = set([0, 1, 3, 4, 5])"
   ]
  },
  {
   "cell_type": "code",
   "execution_count": 19,
   "metadata": {},
   "outputs": [],
   "source": [
    "s = set([0, 1, 3, 4, 5])\n",
    "s = set([0, 1, 3, 4, 5])\n",
    "inp=list(input(\"enter the item(s) you want to delete ,if you entered 999 the set will be cleared\"))\n",
    "inp=[int(i) for i in inp] \n",
    "print(type(inp))\n",
    "if inp[0] == 999:  \n",
    "        s.clear()\n",
    "else:\n",
    "        for i in inp:\n",
    "            s.remove(i)\n",
    "            \n",
    "s=set(s)\n",
    "print(s)\n"
   ]
  },
  {
   "cell_type": "markdown",
   "metadata": {
    "id": "J5nHkSQ4lmlq"
   },
   "source": [
    "### Write a Python program to find the maximum and minimum values in a set."
   ]
  },
  {
   "cell_type": "code",
   "execution_count": 51,
   "metadata": {},
   "outputs": [
    {
     "name": "stdout",
     "output_type": "stream",
     "text": [
      "8\n"
     ]
    }
   ],
   "source": [
    "set1 = {1,8,4,3,2,6}\n",
    "print(max(set1))"
   ]
  },
  {
   "cell_type": "markdown",
   "metadata": {
    "id": "ZDEKN9ulnLZO"
   },
   "source": [
    "### Write a Python program to convert a tuple to a dictionary.\n",
    "### dict1 = {}\n",
    "### tuple1 = (\"name\", \"age\", \"city\",\"city\")\n",
    "\n",
    "```\n",
    "# enumerate()\n",
    "```\n",
    "\n"
   ]
  },
  {
   "cell_type": "markdown",
   "metadata": {},
   "source": [
    "enumerate() returns a value and its index in the itterable (value,index)"
   ]
  },
  {
   "cell_type": "code",
   "execution_count": 55,
   "metadata": {},
   "outputs": [
    {
     "name": "stdout",
     "output_type": "stream",
     "text": [
      "{'name': 0, 'age': 1, 'city': 3}\n"
     ]
    }
   ],
   "source": [
    "tuple_1 = ('name','age','city','city')    #output {'name': 0, 'age': 1, 'city': 3}\n",
    "# values = (1,2,3,4)\n",
    "dic={}\n",
    "for i in range(0,len(tuple_1)):\n",
    "    dic[tuple_1[i]]=i\n",
    "print(dic)    "
   ]
  },
  {
   "cell_type": "code",
   "execution_count": null,
   "metadata": {},
   "outputs": [],
   "source": []
  }
 ],
 "metadata": {
  "colab": {
   "provenance": []
  },
  "kernelspec": {
   "display_name": "Python 3 (ipykernel)",
   "language": "python",
   "name": "python3"
  },
  "language_info": {
   "codemirror_mode": {
    "name": "ipython",
    "version": 3
   },
   "file_extension": ".py",
   "mimetype": "text/x-python",
   "name": "python",
   "nbconvert_exporter": "python",
   "pygments_lexer": "ipython3",
   "version": "3.11.7"
  }
 },
 "nbformat": 4,
 "nbformat_minor": 4
}
